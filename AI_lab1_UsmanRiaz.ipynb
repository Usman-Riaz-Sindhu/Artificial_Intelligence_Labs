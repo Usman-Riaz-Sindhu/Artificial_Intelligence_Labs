{
 "cells": [
  {
   "cell_type": "code",
   "execution_count": 1,
   "id": "0465d206",
   "metadata": {},
   "outputs": [
    {
     "name": "stdout",
     "output_type": "stream",
     "text": [
      "Hello World\n"
     ]
    }
   ],
   "source": [
    "print(\"Hello World\")"
   ]
  },
  {
   "cell_type": "code",
   "execution_count": null,
   "id": "b8f9373a",
   "metadata": {},
   "outputs": [],
   "source": [
    "# This is a simple Python script that prints \"Hello World\" to the console."
   ]
  },
  {
   "cell_type": "code",
   "execution_count": null,
   "id": "72569b0e",
   "metadata": {},
   "outputs": [],
   "source": []
  }
 ],
 "metadata": {
  "kernelspec": {
   "display_name": "Python 3",
   "language": "python",
   "name": "python3"
  },
  "language_info": {
   "codemirror_mode": {
    "name": "ipython",
    "version": 3
   },
   "file_extension": ".py",
   "mimetype": "text/x-python",
   "name": "python",
   "nbconvert_exporter": "python",
   "pygments_lexer": "ipython3",
   "version": "3.13.3"
  }
 },
 "nbformat": 4,
 "nbformat_minor": 5
}
