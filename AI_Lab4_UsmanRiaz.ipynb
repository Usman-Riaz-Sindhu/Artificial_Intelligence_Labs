{
 "cells": [
  {
   "cell_type": "markdown",
   "id": "71085c57-c41d-4126-92ee-1c15f33d945c",
   "metadata": {},
   "source": [
    "# 🧮 Task 1 — Grade Evaluation System\n",
    "## Description:\n",
    "#### In this task, you will design a simple **Grade Evaluation Function** that determines a student's grade based on their marks.  \n",
    "#### The program uses **conditional logic (if–elif–else)** to categorize scores into letter grades such as **A**, **B**, **C**, or **Fail**.  \n",
    "#### This task strengthens your understanding of **decision-making in Python** — teaching how programs can analyze input data and produce intelligent, rule-based outcomes (just like an AI making evaluations).  \n",
    "#### It’s a great way to learn how to combine **functions, conditions, and loops** to process multiple students efficiently.\n"
   ]
  },
  {
   "cell_type": "code",
   "execution_count": 1,
   "id": "db73de73-1210-4a05-a75d-89b76c6d4659",
   "metadata": {},
   "outputs": [
    {
     "name": "stdout",
     "output_type": "stream",
     "text": [
      "Marks: 95 → Grade: A\n",
      "Marks: 72 → Grade: B\n",
      "Marks: 38 → Grade: Fail\n",
      "Marks: 60 → Grade: B\n",
      "Marks: 45 → Grade: C\n"
     ]
    }
   ],
   "source": [
    "# --- Task 1 Solution (Fully Commented) ---\n",
    "\n",
    "def get_grade(marks):\n",
    "    \"\"\"Return a letter grade based on numeric marks.\n",
    "\n",
    "    Parameters\n",
    "    ---\n",
    "    marks : int or float\n",
    "        The marks for a student (@-100).\n",
    "\n",
    "    Returns\n",
    "    ---\n",
    "    str\n",
    "        One of 'A', 'B', 'C', or 'Fail' according to specified thresholds.\n",
    "    \"\"\"\n",
    "\n",
    "    # Use descending thresholds (highest first) to avoid overlapping conditions.\n",
    "    if marks >= 80:\n",
    "        return \"A\"    # 80-100 → A\n",
    "    elif marks >= 60:\n",
    "        return \"B\"    # 60-79 → B\n",
    "    elif marks >= 40:\n",
    "        return \"C\"    # 40-59 → C\n",
    "    else:\n",
    "        return \"Fail\"    # <40 → Fail\n",
    "\n",
    "# Example data to demonstrate function usage\n",
    "marks_list = [95, 72, 38, 60, 45]\n",
    "\n",
    "# Loop through the list and print grade for each entry\n",
    "for m in marks_list:\n",
    "    # f-string shows both the marks and the computed grade\n",
    "    print(f\"Marks: {m} → Grade: {get_grade(m)}\")"
   ]
  },
  {
   "cell_type": "markdown",
   "id": "fb22f2a1-cfe8-470d-b935-3d2192469971",
   "metadata": {},
   "source": [
    "# 🧹 Task 2 — Text Cleaning and Tokenization\n",
    "## Description:\n",
    "#### In this task, you will perform **text preprocessing**, a key step in Natural Language Processing (NLP).  \n",
    "#### The program takes a sentence, converts it to **lowercase**, removes all **punctuation**, and then **splits** it into individual words (tokens).  \n",
    "#### This task helps you understand how raw text is transformed into clean, analyzable data — just like how AI systems prepare textual input before processing it.  \n",
    "#### You’ll also learn the importance of **string manipulation**, **loops**, and **Python’s built-in modules** for handling text efficiently.\n"
   ]
  },
  {
   "cell_type": "code",
   "execution_count": 2,
   "id": "cefeef68-8b99-4cdf-9bba-fa887b29c0e8",
   "metadata": {},
   "outputs": [
    {
     "name": "stdout",
     "output_type": "stream",
     "text": [
      "Original: Hello, Students! AI is amazing, isn't it?\n",
      "Lower : hello, students! ai is amazing, isn't it?\n",
      "Cleaned : hello students ai is amazing isnt it\n",
      "Words : ['hello', 'students', 'ai', 'is', 'amazing', 'isnt', 'it']\n"
     ]
    }
   ],
   "source": [
    "# --- Task 2 Solution (Fully Commented) ---\n",
    "\n",
    "import string # Provides string.punctuation (all common punctuation chars)\n",
    "\n",
    "# Example input sentence; replace with input() to read from user if needed\n",
    "sentence = \"Hello, Students! AI is amazing, isn't it?\"\n",
    "\n",
    "# 1) Lowercase conversion\n",
    "sentence_lower = sentence.lower()\n",
    "\n",
    "# 2) Remove punctuation by replacing each punctuation char with empty string\n",
    "cleaned = sentence_lower\n",
    "for p in string.punctuation:\n",
    "    cleaned = cleaned.replace(p, \"\")\n",
    "\n",
    "# 3) Tokenization: split the cleaned sentence into words on whitespace\n",
    "words = cleaned.split()\n",
    "\n",
    "# Show results at each stage for clarity\n",
    "print(\"Original:\", sentence)\n",
    "print(\"Lower :\", sentence_lower)\n",
    "print(\"Cleaned :\", cleaned)\n",
    "print(\"Words :\", words)"
   ]
  },
  {
   "cell_type": "markdown",
   "id": "b46ddaeb-401d-49c8-9d8e-d4ea2cf8cb72",
   "metadata": {},
   "source": [
    "# 📊 Task 3 — NumPy Array Operations and Statistics\n",
    "## Description:\n",
    "#### In this task, you will explore the power of **NumPy**, a core Python library for numerical and scientific computing.  \n",
    "#### You’ll create a **NumPy array**, perform basic **statistical operations** such as sum, mean, max, and min, and use **boolean masking** to filter elements greater than the average.  \n",
    "#### This task helps you understand how **vectorized operations** in NumPy make data analysis faster and more efficient compared to traditional loops.  \n",
    "#### It’s an essential step toward mastering **data science and AI preprocessing techniques**.\n"
   ]
  },
  {
   "cell_type": "code",
   "execution_count": 3,
   "id": "485535c9-8228-49a0-b0f6-ad34e6d51976",
   "metadata": {},
   "outputs": [
    {
     "name": "stdout",
     "output_type": "stream",
     "text": [
      "Array    : [ 10  20  30  40  50  60  70  80  90 100]\n",
      "Sum    : 550\n",
      "Mean    : 55.0\n",
      "Max / Min    : 100 / 10\n",
      "Above Mean?    : [False False False False False  True  True  True  True  True]\n",
      "Values > mean : [ 60  70  80  90 100]\n"
     ]
    }
   ],
   "source": [
    "# --- Task 3 Solution (Fully Commented) ---\n",
    "\n",
    "import numpy as np # NumPy is the fundamental package for scientific computing\n",
    "\n",
    "# Create a NumPy array of numeric values (10 elements)\n",
    "arr = np.array([10, 20, 30, 40, 50, 60, 70, 80, 90, 100])\n",
    "\n",
    "# Compute basic statistics using NumPy vectorized methods\n",
    "arr_sum = arr.sum() # sum of all elements\n",
    "arr_mean = arr.mean() # arithmetic mean\n",
    "arr_max = arr.max() # maximum value\n",
    "arr_min = arr.min() # minimum value\n",
    "\n",
    "# Build a boolean mask: True where element is strictly greater than mean\n",
    "mask_above_mean = arr > arr_mean\n",
    "\n",
    "# Use the mask to filter elements\n",
    "above_mean_values = arr[mask_above_mean]\n",
    "\n",
    "# Display results\n",
    "print(\"Array    :\", arr)\n",
    "print(\"Sum    :\", arr_sum)\n",
    "print(\"Mean    :\", arr_mean)\n",
    "print(\"Max / Min    :\", arr_max, \"/\", arr_min)\n",
    "print(\"Above Mean?    :\", mask_above_mean) # shows True/False per element\n",
    "print(\"Values > mean :\", above_mean_values)"
   ]
  },
  {
   "cell_type": "markdown",
   "id": "6c234111-9ca3-47d5-98b6-ffd8db82a49b",
   "metadata": {},
   "source": [
    "# 💬 Task 4 — Emotion-Based Response System\n",
    "## Description:\n",
    "#### In this task, you’ll build a simple **emotion-response program** that reacts to how a user feels.  \n",
    "#### The program uses a **dictionary** to map different emotions (like *tired*, *hungry*, *sad*, *happy*) to helpful suggestions.  \n",
    "#### By checking if the user’s input exists in the dictionary, it provides a personalized message — otherwise, it gives a default response.  \n",
    "#### This task helps you understand how to use **dictionaries, conditionals, and string manipulation** to make programs more interactive and human-like — a small step toward **AI-style behavior**.\n"
   ]
  },
  {
   "cell_type": "code",
   "execution_count": 4,
   "id": "9473d5ce-2504-473a-979f-19854f0fe8c8",
   "metadata": {},
   "outputs": [
    {
     "name": "stdout",
     "output_type": "stream",
     "text": [
      "Feeling    : hungry\n",
      "Suggestion : Have a balanced snack (fruit + nuts) or a healthy meal.\n"
     ]
    }
   ],
   "source": [
    "# --- Task 4 Solution (Fully Commented) ---\n",
    "\n",
    "# Example user input (replace with input(...) if you want interactive behavior)\n",
    "feeling = \"hungry\" # try values like \"tired\", \"hungry\", \"sad\", \"happy\", or som\n",
    "\n",
    "# Dictionary maps known feelings to suggested responses\n",
    "responses = {\n",
    "    \"tired\": \"Take a short rest and drink water.\",\n",
    "    \"hungry\": \"Have a balanced snack (fruit + nuts) or a healthy meal.\",\n",
    "    \"sad\": \"Take a short walk and talk to a friend.\",\n",
    "    \"happy\": \"Great! Keep smiling and spread positivity.\"\n",
    "}\n",
    "\n",
    "# Normalize the feeling string to lowercase to match dictionary keys\n",
    "feeling_key = feeling.lower()\n",
    "\n",
    "# Select a response based on the input; provide a default if not found\n",
    "if feeling_key in responses:\n",
    "    print(\"Feeling    :\", feeling)\n",
    "    print(\"Suggestion :\", responses[feeling_key])\n",
    "else:\n",
    "    print(\"Feeling    :\", feeling)\n",
    "    print(\"Suggestion : I'm not sure about this feeling. Try 'tired', 'hungry',\")"
   ]
  },
  {
   "cell_type": "markdown",
   "id": "dfe85440-36b3-412e-82a4-306751046f5f",
   "metadata": {},
   "source": [
    "# 🔢 Task 5 — Even & Odd Number Separation using NumPy\n",
    "## Description:\n",
    "#### In this task, you will use **NumPy** to separate even and odd numbers from a numeric array.  \n",
    "#### The program generates numbers from 1 to 20 and applies **boolean masking** to identify even and odd values.  \n",
    "#### You’ll then filter and count these values efficiently using **vectorized operations**, without any traditional loops.  \n",
    "#### This task enhances your understanding of **logical conditions**, **array filtering**, and **data manipulation with NumPy**, which are foundational skills in **data analysis and AI preprocessing**.\n"
   ]
  },
  {
   "cell_type": "code",
   "execution_count": 5,
   "id": "9abde08d-aa08-4445-968b-3d388aca1d8c",
   "metadata": {},
   "outputs": [
    {
     "name": "stdout",
     "output_type": "stream",
     "text": [
      "All numbers : [ 1  2  3  4  5  6  7  8  9 10 11 12 13 14 15 16 17 18 19 20]\n",
      "Even mask : [False  True False  True False  True False  True False  True False  True\n",
      " False  True False  True False  True False  True]\n",
      "Odd mask : [ True False  True False  True False  True False  True False  True False\n",
      "  True False  True False  True False  True False]\n",
      "Evens : [ 2  4  6  8 10 12 14 16 18 20] → count = 10\n",
      "Odds : [ 1  3  5  7  9 11 13 15 17 19] → count = 10\n"
     ]
    }
   ],
   "source": [
    "# --- Task 5 Solution (Fully Commented) ---\n",
    "import numpy as np\n",
    "\n",
    "# Create integers from 1 to 20 (inclusive of 1, exclusive of 21)\n",
    "arr = np.arange(1, 21)\n",
    "\n",
    "# Boolean masks: True where condition holds\n",
    "even_mask = (arr % 2 == 0)\n",
    "odd_mask = ~even_mask # logical NOT of even_mask\n",
    "\n",
    "# Filter arrays using masks\n",
    "evens = arr[even_mask]\n",
    "odds = arr[odd_mask]\n",
    "\n",
    "# Count evens and odds using len(...) or .size\n",
    "n_evens = len(evens)\n",
    "n_odds = len(odds)\n",
    "\n",
    "# Display results\n",
    "print(\"All numbers :\", arr)\n",
    "print(\"Even mask :\", even_mask)\n",
    "print(\"Odd mask :\", odd_mask)\n",
    "print(\"Evens :\", evens, \"→ count =\", n_evens)\n",
    "print(\"Odds :\", odds, \"→ count =\", n_odds)"
   ]
  },
  {
   "cell_type": "markdown",
   "id": "c0103dc1-c4cd-4c59-bc4d-59841624356a",
   "metadata": {},
   "source": [
    "# 🧠 Wrap-Up Challenge — Random Marks Analysis with NumPy\n",
    "## Description:\n",
    "#### In this final challenge, you’ll combine everything you’ve learned so far — array creation, statistics, masking, and condition-based filtering — into one complete task.  \n",
    "#### The program generates **random marks for 10 students**, computes the **class average**, finds the **highest (topper)** and **lowest** scores, and identifies all students who scored **above average** using NumPy’s vectorized operations.  \n",
    "#### This exercise demonstrates how NumPy can be used for quick **data analysis**, just like how real-world systems analyze student or performance data efficiently.\n"
   ]
  },
  {
   "cell_type": "code",
   "execution_count": 6,
   "id": "1177ae45-2252-4bfc-b36d-510257516cda",
   "metadata": {},
   "outputs": [
    {
     "name": "stdout",
     "output_type": "stream",
     "text": [
      "Marks array    : [51 92 14 71 60 20 82 86 74 74]\n",
      "Class Average    : 62.4\n",
      "Topper Score    : 92\n",
      "Lowest Score    : 14\n",
      "Above-Average Mask  : [False  True False  True False False  True  True  True  True]\n",
      "Above-Average Scores : [92 71 82 86 74 74]\n"
     ]
    }
   ],
   "source": [
    "# --- Wrap-Up Challenge Solution (Fully Commented) ---\n",
    "\n",
    "import numpy as np\n",
    "\n",
    "# Set a random seed so results are repeatable (optional)\n",
    "np.random.seed(42)\n",
    "\n",
    "# Generate random marks for 10 students between 0 and 100 (inclusive of 0, exclu\n",
    "marks = np.random.randint(0, 101, size=10)\n",
    "\n",
    "# Compute summary statistics\n",
    "avg = marks.mean()\n",
    "topper = marks.max()\n",
    "lowest = marks.min()\n",
    "\n",
    "# Boolean mask for students scoring above average\n",
    "above_avg_mask = marks > avg\n",
    "above_avg_scores = marks[above_avg_mask]\n",
    "\n",
    "# Display the full analysis\n",
    "print(\"Marks array    :\", marks)\n",
    "print(\"Class Average    :\", round(avg, 2))\n",
    "print(\"Topper Score    :\", topper)\n",
    "print(\"Lowest Score    :\", lowest)\n",
    "print(\"Above-Average Mask  :\", above_avg_mask)\n",
    "print(\"Above-Average Scores :\", above_avg_scores)"
   ]
  }
 ],
 "metadata": {
  "kernelspec": {
   "display_name": "Python 3 (ipykernel)",
   "language": "python",
   "name": "python3"
  },
  "language_info": {
   "codemirror_mode": {
    "name": "ipython",
    "version": 3
   },
   "file_extension": ".py",
   "mimetype": "text/x-python",
   "name": "python",
   "nbconvert_exporter": "python",
   "pygments_lexer": "ipython3",
   "version": "3.13.5"
  }
 },
 "nbformat": 4,
 "nbformat_minor": 5
}
