{
 "cells": [
  {
   "cell_type": "markdown",
   "id": "4413922c-4371-41ac-8a75-a06709d89dfd",
   "metadata": {},
   "source": [
    "# Task1\n",
    "## Description:\n",
    "#### In this task, you will create a **dictionary** where student names are keys and their marks are values. Using this dictionary, you will write a function that goes through each student and decides their **grade** (A, B, C, or Fail) based on their marks. \n",
    "#### This helps you understand how to **store structured** data and how to apply **if/else** conditions inside a loop to make decisions (just like an AI system evaluates input and produces results). \n",
    "\n"
   ]
  },
  {
   "cell_type": "code",
   "execution_count": 17,
   "id": "18863303-ec81-4896-90c7-a80124f89c5f",
   "metadata": {},
   "outputs": [
    {
     "name": "stdout",
     "output_type": "stream",
     "text": [
      "Usman: 90 -> Grade A\n",
      "Ali: 89 -> Grade A\n",
      "Sameer: 78 -> Grade B\n"
     ]
    }
   ],
   "source": [
    "students = {\"Usman\": 90, \"Ali\": 89, \"Sameer\": 78}\n",
    "\n",
    "def print_results(data):\n",
    "    for name, marks in data.items():\n",
    "        if marks >= 80:\n",
    "            grade = \"Grade A\"\n",
    "        elif marks >= 70:\n",
    "            grade = \"Grade B\"\n",
    "        elif marks >= 60:\n",
    "            grade = \"Grade C\"\n",
    "        elif marks >= 50:\n",
    "            grade = \"Grade D\"\n",
    "        else:\n",
    "            grade = \"Fail\"\n",
    "        \n",
    "        print(f\"{name}: {marks} -> {grade}\")\n",
    "\n",
    "print_results(students)"
   ]
  },
  {
   "cell_type": "markdown",
   "id": "426c4b9c-a086-4d9d-8930-48c6ae48eef1",
   "metadata": {},
   "source": [
    "# Task2\n",
    "## Description:\n",
    "#### This task will train you to process **text data**. You will ask the user for a sentence, then use a **dictionary** to count how many times each word appears. This is an important skill in **Natural Language Processing (NLP)**, where AI models often need to analyze and understand text. \n",
    "#### For example, if you type “AI is fun and AI is powerful,” the program should count how many times “AI,” “is,” “fun,” etc. appear. \n"
   ]
  },
  {
   "cell_type": "code",
   "execution_count": 18,
   "id": "c144bbc3-5a87-42d8-9638-d7a9ce25483f",
   "metadata": {},
   "outputs": [
    {
     "name": "stdin",
     "output_type": "stream",
     "text": [
      "Enter a sentence:  Ali is a good boy.\n"
     ]
    },
    {
     "name": "stdout",
     "output_type": "stream",
     "text": [
      "Word counts: {'ali': 1, 'is': 1, 'a': 1, 'good': 1, 'boy.': 1}\n"
     ]
    }
   ],
   "source": [
    "sentence = input(\"Enter a sentence: \")\n",
    "words = sentence.split()\n",
    "counter = {}\n",
    "for w in words:\n",
    "    w = w.lower()  \n",
    "    if w in counter:\n",
    "        counter[w] += 1\n",
    "    else:\n",
    "        counter[w] = 1\n",
    "print(\"Word counts:\", counter)"
   ]
  },
  {
   "cell_type": "markdown",
   "id": "9fe0d60e-aed7-497b-b7b0-d435e76dd6d0",
   "metadata": {},
   "source": [
    "# Task3\n",
    "## Description:\n",
    "#### Here you will build a **rule-based** chatbot using a dictionary. The dictionary will store some common phrases as keys (like “hi”, “bye”, “how are you”), and the chatbot will respond with predefined answers. \n",
    "#### This shows how **AI assistants** are built at a basic level — they check for known inputs and provide matching outputs. \n"
   ]
  },
  {
   "cell_type": "code",
   "execution_count": 20,
   "id": "6ed3cfed-7eb9-42db-9b7e-2c1b6becf899",
   "metadata": {},
   "outputs": [
    {
     "name": "stdin",
     "output_type": "stream",
     "text": [
      "You(hi/bye/how):  hi\n"
     ]
    },
    {
     "name": "stdout",
     "output_type": "stream",
     "text": [
      "Bot: Hello! How can I help you?\n"
     ]
    }
   ],
   "source": [
    "responses = {\n",
    "    \"hi\": \"Hello! How can I help you?\",\n",
    "    \"bye\": \"Goodbye! Have a nice day!\",\n",
    "    \"how are you\": \"I'm doing great, thanks!\"\n",
    "}\n",
    "user = input(\"You(hi/bye/how): \").lower()  \n",
    "if user in responses:\n",
    "    print(\"Bot:\", responses[user])\n",
    "else:\n",
    "    print(\"Bot: Sorry, I don't understand.\")"
   ]
  },
  {
   "cell_type": "markdown",
   "id": "37e1aa45-de64-4bf2-a1f6-1c5ff0af44cc",
   "metadata": {},
   "source": [
    "# Task4\n",
    "## Description:\n",
    "#### In this task, you will create a **movie recommendation system**. Movies will be stored in a dictionary grouped by genre (action, comedy, sci-fi). When the user enters a genre, the program will randomly recommend a movie. \n",
    "#### This is a very simple version of **recommender systems** (like Netflix or YouTube), where AI suggests content based on user choice. \n"
   ]
  },
  {
   "cell_type": "code",
   "execution_count": 21,
   "id": "4c006309-9f3b-453c-acbd-2c2bd7db7712",
   "metadata": {},
   "outputs": [
    {
     "name": "stdin",
     "output_type": "stream",
     "text": [
      "Enter genre (action/comedy/sci-fi):  action\n"
     ]
    },
    {
     "name": "stdout",
     "output_type": "stream",
     "text": [
      "Watch: Spiderman\n"
     ]
    }
   ],
   "source": [
    "import random  \n",
    "movies = {\n",
    "    \"action\": [\"Awengers\", \"Batman\", \"Spiderman\"],\n",
    "    \"comedy\": [\"Mw. Bean\", \"Home Alone\", \"The Mask\"],\n",
    "    \"sci-fi\": [\"Interstellar\", \"Inception\", \"The Matrix\"]\n",
    "}\n",
    "genre = input(\"Enter genre (action/comedy/sci-fi): \").lower()\n",
    "if genre in movies:\n",
    "    print(\"Watch:\", random.choice(movies[genre]))\n",
    "else:\n",
    "    print(\"Sorry, try action, comedy, or sci-fi.\")"
   ]
  },
  {
   "cell_type": "markdown",
   "id": "ef456e46-ab05-4591-bc4f-bbd382704b60",
   "metadata": {},
   "source": [
    "# Task5\n",
    "## Description:\n",
    "#### This task simulates a small AI program that **suggests an activity based on weather conditions**. The user provides weather (sunny, rainy, cold, windy), and the program decides what to do. \n",
    "#### This introduces the concept of **decision-making systems**, where input conditions guide the output recommendation. \n"
   ]
  },
  {
   "cell_type": "code",
   "execution_count": 3,
   "id": "398fdbff-fd4c-469a-8d06-ee420bf81ef1",
   "metadata": {},
   "outputs": [
    {
     "name": "stdout",
     "output_type": "stream",
     "text": [
      "Take an umbrella.\n"
     ]
    }
   ],
   "source": [
    "def suggest_activity(weather):\n",
    "    weather = weather.lower()   \n",
    "    if weather == \"sunny\":\n",
    "        return \"Go outside.\"\n",
    "    elif weather == \"rainy\":\n",
    "        return \"Take an umbrella.\"\n",
    "    elif weather == \"cold\":\n",
    "        return \"Stay warm at home.\"\n",
    "    elif weather == \"windy\":\n",
    "        return \"Fly a kite.\"\n",
    "    else:\n",
    "        return \"Unknown weather condition.\"\n",
    "print(suggest_activity(\"rainy\"))"
   ]
  }
 ],
 "metadata": {
  "kernelspec": {
   "display_name": "Python 3 (ipykernel)",
   "language": "python",
   "name": "python3"
  },
  "language_info": {
   "codemirror_mode": {
    "name": "ipython",
    "version": 3
   },
   "file_extension": ".py",
   "mimetype": "text/x-python",
   "name": "python",
   "nbconvert_exporter": "python",
   "pygments_lexer": "ipython3",
   "version": "3.13.5"
  }
 },
 "nbformat": 4,
 "nbformat_minor": 5
}
