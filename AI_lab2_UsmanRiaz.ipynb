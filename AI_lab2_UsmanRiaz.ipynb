{
 "cells": [
  {
   "cell_type": "code",
   "execution_count": 14,
   "id": "ca611925-6fe0-4b38-9cb8-85c9b968471a",
   "metadata": {},
   "outputs": [
    {
     "name": "stdin",
     "output_type": "stream",
     "text": [
      "Enter your first number:  43\n",
      "Enter your second number:  43\n"
     ]
    },
    {
     "name": "stdout",
     "output_type": "stream",
     "text": [
      "Both are equal 43\n"
     ]
    }
   ],
   "source": [
    "a = int(input(\"Enter your first number: \"))\n",
    "b = int(input(\"Enter your second number: \"))\n",
    "if a > b:\n",
    "     print(\"Greater number: \", a)\n",
    "elif b > a:\n",
    "    print(\"Greater number :\", b)\n",
    "else:\n",
    "    print(\"Both are equal\", a)"
   ]
  },
  {
   "cell_type": "code",
   "execution_count": 15,
   "id": "f38ed7dc-f59b-4cab-a301-19e7737bd6f9",
   "metadata": {},
   "outputs": [
    {
     "name": "stdin",
     "output_type": "stream",
     "text": [
      "Enter marks (0-100):  56\n"
     ]
    },
    {
     "name": "stdout",
     "output_type": "stream",
     "text": [
      "Grade C Pass\n"
     ]
    }
   ],
   "source": [
    "marks = int(input(\"Enter marks (0-100): \"))\n",
    "if marks < 0 or marks > 100:\n",
    "    print(\"Invalid marks. Please enter between 0 and 100.\")\n",
    "elif marks >= 80:\n",
    "    print(\"Grade A Excellent\")\n",
    "elif marks >= 60:\n",
    "    print(\"Grade B Good\")\n",
    "elif marks >= 50:\n",
    "    print(\"Grade C Pass\")\n",
    "else:\n",
    "    print(\"Fail Needs Improvement\")"
   ]
  },
  {
   "cell_type": "code",
   "execution_count": 16,
   "id": "e5a4b02e-910c-46b4-a593-bdeb6d56d9b7",
   "metadata": {},
   "outputs": [
    {
     "name": "stdin",
     "output_type": "stream",
     "text": [
      "Enter your number:  5443343\n"
     ]
    },
    {
     "name": "stdout",
     "output_type": "stream",
     "text": [
      "5443343 is odd\n"
     ]
    }
   ],
   "source": [
    "n = int(input(\"Enter your number: \"))\n",
    "if n % 2 == 0:\n",
    "    print(n, \"is even\")\n",
    "else:\n",
    "    print(n, \"is odd\")"
   ]
  },
  {
   "cell_type": "code",
   "execution_count": 17,
   "id": "d46ce078-8358-4d93-aab6-7db022bf7c7e",
   "metadata": {},
   "outputs": [
    {
     "name": "stdin",
     "output_type": "stream",
     "text": [
      "Username:  admin\n",
      "Password:  1234\n"
     ]
    },
    {
     "name": "stdout",
     "output_type": "stream",
     "text": [
      "Login Successful\n"
     ]
    }
   ],
   "source": [
    "CORRECT_USER = \"admin\"\n",
    "CORRECT_PASS = \"1234\"\n",
    "attempts = 3\n",
    "while attempts > 0:\n",
    "    u = input(\"Username: \")\n",
    "    p = input(\"Password: \")\n",
    "    if u == CORRECT_USER and p == CORRECT_PASS:\n",
    "        print(\"Login Successful\")\n",
    "        break\n",
    "    else:\n",
    "        attempts -= 1\n",
    "        print(\"Invalid credentials. Attempts left:\", attempts)\n",
    "if attempts == 0:\n",
    "    print(\"Account locked (demo). Please try later.\")\n",
    "    "
   ]
  },
  {
   "cell_type": "code",
   "execution_count": null,
   "id": "172c1fa9-1575-4fb1-8313-6d561961515e",
   "metadata": {},
   "outputs": [
    {
     "name": "stdout",
     "output_type": "stream",
     "text": [
      "i am thinking of a number between 1 and 20...\n"
     ]
    }
   ],
   "source": [
    "import random\n",
    "secert = random.randint(1, 20)\n",
    "print(\"i am thinking of a number between 1 and 20...\")\n",
    "\n",
    "while True:\n",
    "    guess = int(input(\"Your Guess..\"))\n",
    "    if guess == secert:\n",
    "        print(\"Correct answer!!\")\n",
    "    elif guess < secert:\n",
    "        print(\"Too Low!!\")\n",
    "    else:\n",
    "        print(\"Too High!!\")\n",
    "        "
   ]
  },
  {
   "cell_type": "code",
   "execution_count": null,
   "id": "2cab7ac6-91b4-43b8-9d27-b4e5ed132586",
   "metadata": {},
   "outputs": [],
   "source": []
  }
 ],
 "metadata": {
  "kernelspec": {
   "display_name": "Python [conda env:base] *",
   "language": "python",
   "name": "conda-base-py"
  },
  "language_info": {
   "codemirror_mode": {
    "name": "ipython",
    "version": 3
   },
   "file_extension": ".py",
   "mimetype": "text/x-python",
   "name": "python",
   "nbconvert_exporter": "python",
   "pygments_lexer": "ipython3",
   "version": "3.13.5"
  }
 },
 "nbformat": 4,
 "nbformat_minor": 5
}
